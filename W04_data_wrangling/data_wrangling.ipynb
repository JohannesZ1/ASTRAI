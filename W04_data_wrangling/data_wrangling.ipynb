{
 "cells": [
  {
   "cell_type": "markdown",
   "metadata": {},
   "source": [
    "# <center>Data Wrangling</center>"
   ]
  },
  {
   "cell_type": "markdown",
   "metadata": {},
   "source": [
    "<img src=\"../image/wrangling_DALLE.jpeg\" width=30% align=\"right\" style=\"in-line\">\n",
    "\n",
    ">*80% of data wrangling is spent cleaning the data.*\n",
    ">\n",
    ">*The other 20% is spent complaining about cleaning the data.*\n",
    ">\n",
    ">— ChatGPT 4o\n",
    "\n",
    "<img src=\"../image/quote2_ChatGPT.png\" width=60% align=\"left\" style=\"in-line\">"
   ]
  },
  {
   "cell_type": "markdown",
   "metadata": {},
   "source": [
    "## Learning goals\n",
    "\n",
    "1. Be able to perform web scraping across multiple pages.\n",
    "2. Be able to load, explore, and understand the structure of datasets using Python.\n",
    "3. Become familiar with common data wrangling tasks, including handling missing values, merging datasets, filtering, and sorting data."
   ]
  },
  {
   "cell_type": "markdown",
   "metadata": {
    "ExecuteTime": {
     "end_time": "2022-04-01T08:33:09.252271Z",
     "start_time": "2022-04-01T08:33:09.160011Z"
    }
   },
   "source": [
    "## Agenda\n",
    "\n",
    "1. [Review: web scraping](#1)\n",
    "2. [Data wrangling](#2)"
   ]
  },
  {
   "cell_type": "markdown",
   "metadata": {},
   "source": [
    "<a name=\"1\"></a>\n",
    "## Agenda 1. Web scraping"
   ]
  },
  {
   "cell_type": "markdown",
   "metadata": {},
   "source": [
    "&#x1F4DD; **<font color=dodgerblue>FROM LAST WEEK: </font>** Here is an example project. We would like to find out what the European Union has been doing to advance sustainable mobility and transport. One possible data source is the news (https://transport.ec.europa.eu/news-events/news_en) we just scraped, but we need more information other than the title of the news.\n",
    "\n",
    "So now please write some code to collect **the date, the title, the short description, the news type, and the link to the full text** of all news. Save the data to a **csv** file.\n",
    "\n",
    "Here are some tips:\n",
    "1. How many pages do you need to scrape? Observe how the web addresses change between the first page and the second.\n",
    "2. Remember we have talked about **avoid overloading servers** in ethics. Make sure to use `time.sleep()`.\n",
    "3. Maybe AI tools such as ChatGPT can help. But you need to make sure its solution works.\n",
    "\n",
    "If you would like to challenge yourself, see if you can scrape the full text (not the short description) of the news. Try with one or two pieces of news would be enough."
   ]
  },
  {
   "cell_type": "code",
   "execution_count": null,
   "metadata": {
    "ExecuteTime": {
     "end_time": "2024-11-05T15:35:42.385150Z",
     "start_time": "2024-11-05T15:35:41.845844Z"
    }
   },
   "outputs": [],
   "source": [
    "import requests\n",
    "from bs4 import BeautifulSoup\n",
    "import time\n",
    "import csv\n",
    "import pandas as pd"
   ]
  },
  {
   "cell_type": "markdown",
   "metadata": {},
   "source": [
    "### Step 1: Send an HTTP request"
   ]
  },
  {
   "cell_type": "code",
   "execution_count": null,
   "metadata": {
    "ExecuteTime": {
     "end_time": "2024-11-05T15:25:20.328556Z",
     "start_time": "2024-11-05T15:25:20.154515Z"
    }
   },
   "outputs": [],
   "source": [
    "url = \"https://transport.ec.europa.eu/news-events/news_en?page=0\"\n",
    "page = requests.get(url)"
   ]
  },
  {
   "cell_type": "code",
   "execution_count": null,
   "metadata": {
    "ExecuteTime": {
     "end_time": "2024-11-05T15:25:21.602564Z",
     "start_time": "2024-11-05T15:25:21.585553Z"
    }
   },
   "outputs": [],
   "source": [
    "print(page)"
   ]
  },
  {
   "cell_type": "markdown",
   "metadata": {},
   "source": [
    "### Step 2: Parse the HTML content"
   ]
  },
  {
   "cell_type": "code",
   "execution_count": null,
   "metadata": {
    "ExecuteTime": {
     "end_time": "2024-11-05T15:25:34.618031Z",
     "start_time": "2024-11-05T15:25:34.578465Z"
    }
   },
   "outputs": [],
   "source": [
    "soup = BeautifulSoup(page.content, 'html.parser')"
   ]
  },
  {
   "cell_type": "code",
   "execution_count": null,
   "metadata": {
    "ExecuteTime": {
     "end_time": "2024-11-05T15:25:41.442184Z",
     "start_time": "2024-11-05T15:25:41.410567Z"
    }
   },
   "outputs": [],
   "source": [
    "print(soup)\n",
    "#print(soup.prettify())"
   ]
  },
  {
   "cell_type": "markdown",
   "metadata": {},
   "source": [
    "### Step 3: Locate the HTML elements containing the desired data"
   ]
  },
  {
   "cell_type": "markdown",
   "metadata": {},
   "source": [
    "Chrome: `View` -> `Developer` -> `Inspect Elements`\n",
    "\n",
    "<img src=\"../image/news_elements.png\">"
   ]
  },
  {
   "cell_type": "code",
   "execution_count": null,
   "metadata": {
    "ExecuteTime": {
     "end_time": "2024-11-05T15:26:27.263873Z",
     "start_time": "2024-11-05T15:26:27.253078Z"
    }
   },
   "outputs": [],
   "source": [
    "news = soup.find_all(\"article\", class_=\"ecl-content-item\")"
   ]
  },
  {
   "cell_type": "code",
   "execution_count": null,
   "metadata": {
    "ExecuteTime": {
     "end_time": "2024-11-05T15:26:30.450793Z",
     "start_time": "2024-11-05T15:26:30.437713Z"
    }
   },
   "outputs": [],
   "source": [
    "print(news)"
   ]
  },
  {
   "cell_type": "code",
   "execution_count": null,
   "metadata": {
    "ExecuteTime": {
     "end_time": "2024-11-05T15:26:37.421207Z",
     "start_time": "2024-11-05T15:26:37.406472Z"
    }
   },
   "outputs": [],
   "source": [
    "len(news)"
   ]
  },
  {
   "cell_type": "markdown",
   "metadata": {},
   "source": [
    "### Step 4: Extract data"
   ]
  },
  {
   "cell_type": "code",
   "execution_count": null,
   "metadata": {
    "ExecuteTime": {
     "end_time": "2024-10-02T14:55:58.171041Z",
     "start_time": "2024-10-02T14:55:58.157145Z"
    },
    "scrolled": true
   },
   "outputs": [],
   "source": [
    "for item in news:\n",
    "    date = item.time.attrs['datetime']\n",
    "    title = item.find(\"a\", class_=\"ecl-link ecl-link--standalone\").get_text()\n",
    "    desc = item.find(\"div\", class_=\"ecl-content-block__description\").get_text()\n",
    "    news_type = item.find(\"li\", class_=\"ecl-content-block__primary-meta-item\").get_text()\n",
    "    link = item.find(\"a\", class_=\"ecl-link ecl-link--standalone\", href=True)[\"href\"]\n",
    "    print(date,title,desc)\n",
    "    print(news_type)\n",
    "    print(link)\n",
    "    print(\"=====\")"
   ]
  },
  {
   "cell_type": "markdown",
   "metadata": {},
   "source": [
    "### Save data to csv"
   ]
  },
  {
   "cell_type": "markdown",
   "metadata": {},
   "source": [
    "To scrape multiple pages, we need to observe how the web addresses change."
   ]
  },
  {
   "cell_type": "code",
   "execution_count": null,
   "metadata": {
    "ExecuteTime": {
     "end_time": "2024-10-02T15:38:10.626770Z",
     "start_time": "2024-10-02T15:38:10.617149Z"
    },
    "scrolled": false
   },
   "outputs": [],
   "source": [
    "#page_number = range(7,18) # year 2023. your number could be different\n",
    "page_number = range(0,8) # year 2024\n",
    "stem = \"https://transport.ec.europa.eu/news-events/news_en?page=\""
   ]
  },
  {
   "cell_type": "code",
   "execution_count": null,
   "metadata": {
    "ExecuteTime": {
     "end_time": "2024-10-02T15:38:28.888769Z",
     "start_time": "2024-10-02T15:38:28.877656Z"
    }
   },
   "outputs": [],
   "source": [
    "#csv_filename = \"news2023.csv\" # give the csv file a name\n",
    "csv_filename = \"news2024.csv\""
   ]
  },
  {
   "cell_type": "code",
   "execution_count": null,
   "metadata": {
    "ExecuteTime": {
     "end_time": "2024-10-02T15:38:47.630236Z",
     "start_time": "2024-10-02T15:38:30.449002Z"
    },
    "scrolled": true
   },
   "outputs": [],
   "source": [
    "for i in page_number: # loop over all the pages\n",
    "    url = stem + str(i)\n",
    "    print(url)\n",
    "    \n",
    "    page = requests.get(url) # send the request\n",
    "    soup = BeautifulSoup(page.content, 'html.parser') # parse the content\n",
    "    news = soup.find_all(\"article\", class_=\"ecl-content-item\") # locate all the news\n",
    "    \n",
    "    for item in news: # loop over each article\n",
    "        try: # use try except to skip error e.g., NoneType object - empty elements\n",
    "            date = item.time.attrs['datetime']\n",
    "        except (AttributeError, KeyError, TypeError) as e:\n",
    "            date = \"\"\n",
    "            print(f\"Error extracting date: {e}\")\n",
    "            print(item)\n",
    "            print(\"====\")\n",
    "        try:\n",
    "            title = item.find(\"a\", class_=\"ecl-link ecl-link--standalone\").get_text()\n",
    "        except AttributeError as e:\n",
    "            title = \"\"\n",
    "            print(f\"Error extracting title: {e}\")\n",
    "            print(item)\n",
    "            print(\"====\")\n",
    "        try:\n",
    "            desc = item.find(\"div\", class_=\"ecl-content-block__description\").get_text()\n",
    "        except AttributeError as e:\n",
    "            desc = \"\"\n",
    "            print(f\"Error extracting description: {e}\")\n",
    "            print(item)\n",
    "            print(\"====\")\n",
    "        try:\n",
    "            news_type = item.find(\"li\", class_=\"ecl-content-block__primary-meta-item\").get_text()\n",
    "        except AttributeError as e:\n",
    "            news_type = \"\"\n",
    "            print(f\"Error extracting news type: {e}\")\n",
    "            print(item)\n",
    "            print(\"====\")\n",
    "        try:\n",
    "            link = item.find(\"a\", class_=\"ecl-link ecl-link--standalone\", href=True)[\"href\"]\n",
    "        except (AttributeError, TypeError) as e:\n",
    "            link = \"\"\n",
    "            print(f\"Error extracting link: {e}\")\n",
    "            print(item)\n",
    "            print(\"====\")\n",
    "        csv.writer(open(csv_filename, \"a\")).writerow([date, title, desc, news_type, link])\n",
    "        \n",
    "    time.sleep(2)"
   ]
  },
  {
   "cell_type": "markdown",
   "metadata": {},
   "source": [
    "I got 8 errors running the above cell (for year 2023). It is okay. I have saved the errors in case we need to go back."
   ]
  },
  {
   "cell_type": "markdown",
   "metadata": {},
   "source": [
    "<a name=\"error\"></a>\n",
    "The error output\n",
    "\n",
    "```\n",
    "https://transport.ec.europa.eu/news-events/news_en?page=7\n",
    "https://transport.ec.europa.eu/news-events/news_en?page=8\n",
    "Error extracting title: 'NoneType' object has no attribute 'get_text'\n",
    "<article class=\"ecl-content-item\"><div class=\"ecl-content-block ecl-content-item__content-block\" data-ecl-auto-init=\"ContentBlock\" data-ecl-content-block=\"\"><ul class=\"ecl-content-block__primary-meta-container\"><li class=\"ecl-content-block__primary-meta-item\">News article</li><li class=\"ecl-content-block__primary-meta-item\"><time datetime=\"2023-12-12T12:00:00Z\">12 December 2023</time></li></ul><div class=\"ecl-content-block__title\" data-ecl-title-link=\"\"><a class=\"ecl-link ecl-link--standalone ecl-link--icon\" href=\"https://www.wbif.eu/news-details/transport-ministers-discuss-reforms-within-western-balkans-transport-community-summit\"><span class=\"ecl-link__label\">Transport Ministers discuss reforms within Western Balkans at Transport Community Summit</span><svg aria-hidden=\"false\" class=\"ecl-icon ecl-icon--2xs ecl-link__icon\" focusable=\"false\"><use xlink:href=\"/themes/contrib/oe_theme/dist/ec/images/icons/sprites/icons.svg#external\"></use></svg></a></div><div class=\"ecl-content-block__description\"><p>Transport ministers from the Western Balkans, Georgia, Moldova, and Ukraine, as well as the European Commission, gathered at the annual Ministerial Council Meeting of the Transport Community in Skopje, North Macedonia, on 12 December 2023.</p></div><div class=\"ecl-content-block__list-container\"></div></div></article>\n",
    "====\n",
    "Error extracting link: 'NoneType' object is not subscriptable\n",
    "<article class=\"ecl-content-item\"><div class=\"ecl-content-block ecl-content-item__content-block\" data-ecl-auto-init=\"ContentBlock\" data-ecl-content-block=\"\"><ul class=\"ecl-content-block__primary-meta-container\"><li class=\"ecl-content-block__primary-meta-item\">News article</li><li class=\"ecl-content-block__primary-meta-item\"><time datetime=\"2023-12-12T12:00:00Z\">12 December 2023</time></li></ul><div class=\"ecl-content-block__title\" data-ecl-title-link=\"\"><a class=\"ecl-link ecl-link--standalone ecl-link--icon\" href=\"https://www.wbif.eu/news-details/transport-ministers-discuss-reforms-within-western-balkans-transport-community-summit\"><span class=\"ecl-link__label\">Transport Ministers discuss reforms within Western Balkans at Transport Community Summit</span><svg aria-hidden=\"false\" class=\"ecl-icon ecl-icon--2xs ecl-link__icon\" focusable=\"false\"><use xlink:href=\"/themes/contrib/oe_theme/dist/ec/images/icons/sprites/icons.svg#external\"></use></svg></a></div><div class=\"ecl-content-block__description\"><p>Transport ministers from the Western Balkans, Georgia, Moldova, and Ukraine, as well as the European Commission, gathered at the annual Ministerial Council Meeting of the Transport Community in Skopje, North Macedonia, on 12 December 2023.</p></div><div class=\"ecl-content-block__list-container\"></div></div></article>\n",
    "====\n",
    "https://transport.ec.europa.eu/news-events/news_en?page=9\n",
    "Error extracting title: 'NoneType' object has no attribute 'get_text'\n",
    "<article class=\"ecl-content-item\"><div class=\"ecl-content-block ecl-content-item__content-block\" data-ecl-auto-init=\"ContentBlock\" data-ecl-content-block=\"\"><ul class=\"ecl-content-block__primary-meta-container\"><li class=\"ecl-content-block__primary-meta-item\">News article</li><li class=\"ecl-content-block__primary-meta-item\"><time datetime=\"2023-10-25T12:00:00Z\">25 October 2023</time></li></ul><div class=\"ecl-content-block__title\" data-ecl-title-link=\"\"><a class=\"ecl-link ecl-link--standalone ecl-link--icon\" href=\"https://www.ecac-ceac.org/news/960-press-release-european-aviation-leaders-unite-for-holistic-sustainability-in-the-ecac-eu-dialogue\"><span class=\"ecl-link__label\">European Commission joins the 12th edition of the ECAC/EU Dialogue</span><svg aria-hidden=\"false\" class=\"ecl-icon ecl-icon--2xs ecl-link__icon\" focusable=\"false\"><use xlink:href=\"/themes/contrib/oe_theme/dist/ec/images/icons/sprites/icons.svg#external\"></use></svg></a></div><div class=\"ecl-content-block__description\"><p>European aviation leaders have come together in Valencia for the 12th edition of the ECAC/EU Dialogue, reaffirming their commitment to sustainable aviation.</p></div><div class=\"ecl-content-block__list-container\"></div></div></article>\n",
    "====\n",
    "Error extracting link: 'NoneType' object is not subscriptable\n",
    "<article class=\"ecl-content-item\"><div class=\"ecl-content-block ecl-content-item__content-block\" data-ecl-auto-init=\"ContentBlock\" data-ecl-content-block=\"\"><ul class=\"ecl-content-block__primary-meta-container\"><li class=\"ecl-content-block__primary-meta-item\">News article</li><li class=\"ecl-content-block__primary-meta-item\"><time datetime=\"2023-10-25T12:00:00Z\">25 October 2023</time></li></ul><div class=\"ecl-content-block__title\" data-ecl-title-link=\"\"><a class=\"ecl-link ecl-link--standalone ecl-link--icon\" href=\"https://www.ecac-ceac.org/news/960-press-release-european-aviation-leaders-unite-for-holistic-sustainability-in-the-ecac-eu-dialogue\"><span class=\"ecl-link__label\">European Commission joins the 12th edition of the ECAC/EU Dialogue</span><svg aria-hidden=\"false\" class=\"ecl-icon ecl-icon--2xs ecl-link__icon\" focusable=\"false\"><use xlink:href=\"/themes/contrib/oe_theme/dist/ec/images/icons/sprites/icons.svg#external\"></use></svg></a></div><div class=\"ecl-content-block__description\"><p>European aviation leaders have come together in Valencia for the 12th edition of the ECAC/EU Dialogue, reaffirming their commitment to sustainable aviation.</p></div><div class=\"ecl-content-block__list-container\"></div></div></article>\n",
    "====\n",
    "https://transport.ec.europa.eu/news-events/news_en?page=10\n",
    "https://transport.ec.europa.eu/news-events/news_en?page=11\n",
    "https://transport.ec.europa.eu/news-events/news_en?page=12\n",
    "https://transport.ec.europa.eu/news-events/news_en?page=13\n",
    "https://transport.ec.europa.eu/news-events/news_en?page=14\n",
    "https://transport.ec.europa.eu/news-events/news_en?page=15\n",
    "Error extracting title: 'NoneType' object has no attribute 'get_text'\n",
    "<article class=\"ecl-content-item\"><div class=\"ecl-content-block ecl-content-item__content-block\" data-ecl-auto-init=\"ContentBlock\" data-ecl-content-block=\"\"><ul class=\"ecl-content-block__primary-meta-container\"><li class=\"ecl-content-block__primary-meta-item\">News article</li><li class=\"ecl-content-block__primary-meta-item\"><time datetime=\"2023-03-14T12:00:00Z\">14 March 2023</time></li></ul><div class=\"ecl-content-block__title\" data-ecl-title-link=\"\"><a class=\"ecl-link ecl-link--standalone ecl-link--icon\" href=\"https://www.eib.org/en/press/all/2023-108-investeu-eur3-4-billion-to-modernise-the-palermo-catania-railway-line\"><span class=\"ecl-link__label\">Italy: InvestEU - €3.4 billion to modernise the Palermo-Catania railway line</span><svg aria-hidden=\"false\" class=\"ecl-icon ecl-icon--2xs ecl-link__icon\" focusable=\"false\"><use xlink:href=\"/themes/contrib/oe_theme/dist/ec/images/icons/sprites/icons.svg#external\"></use></svg></a></div><div class=\"ecl-content-block__description\"><p>The modernisation of 178 km of the Palermo-Catania line will reduce current travel times by a third, linking the two cities with a direct two-hour rail service, which will have a significant impact on economic, social, and sustainable development in Sicily.</p></div><div class=\"ecl-content-block__list-container\"></div></div></article>\n",
    "====\n",
    "Error extracting link: 'NoneType' object is not subscriptable\n",
    "<article class=\"ecl-content-item\"><div class=\"ecl-content-block ecl-content-item__content-block\" data-ecl-auto-init=\"ContentBlock\" data-ecl-content-block=\"\"><ul class=\"ecl-content-block__primary-meta-container\"><li class=\"ecl-content-block__primary-meta-item\">News article</li><li class=\"ecl-content-block__primary-meta-item\"><time datetime=\"2023-03-14T12:00:00Z\">14 March 2023</time></li></ul><div class=\"ecl-content-block__title\" data-ecl-title-link=\"\"><a class=\"ecl-link ecl-link--standalone ecl-link--icon\" href=\"https://www.eib.org/en/press/all/2023-108-investeu-eur3-4-billion-to-modernise-the-palermo-catania-railway-line\"><span class=\"ecl-link__label\">Italy: InvestEU - €3.4 billion to modernise the Palermo-Catania railway line</span><svg aria-hidden=\"false\" class=\"ecl-icon ecl-icon--2xs ecl-link__icon\" focusable=\"false\"><use xlink:href=\"/themes/contrib/oe_theme/dist/ec/images/icons/sprites/icons.svg#external\"></use></svg></a></div><div class=\"ecl-content-block__description\"><p>The modernisation of 178 km of the Palermo-Catania line will reduce current travel times by a third, linking the two cities with a direct two-hour rail service, which will have a significant impact on economic, social, and sustainable development in Sicily.</p></div><div class=\"ecl-content-block__list-container\"></div></div></article>\n",
    "====\n",
    "Error extracting title: 'NoneType' object has no attribute 'get_text'\n",
    "<article class=\"ecl-content-item\"><div class=\"ecl-content-block ecl-content-item__content-block\" data-ecl-auto-init=\"ContentBlock\" data-ecl-content-block=\"\"><ul class=\"ecl-content-block__primary-meta-container\"><li class=\"ecl-content-block__primary-meta-item\">News article</li><li class=\"ecl-content-block__primary-meta-item\"><time datetime=\"2023-02-28T12:00:00Z\">28 February 2023</time></li></ul><div class=\"ecl-content-block__title\" data-ecl-title-link=\"\"><a class=\"ecl-link ecl-link--standalone ecl-link--icon\" href=\"https://mobilityweek.eu/media-corner/\"><span class=\"ecl-link__label\">Braga, Sofia and Zagreb among the finalists for European urban mobility awards</span><svg aria-hidden=\"false\" class=\"ecl-icon ecl-icon--2xs ecl-link__icon\" focusable=\"false\"><use xlink:href=\"/themes/contrib/oe_theme/dist/ec/images/icons/sprites/icons.svg#external\"></use></svg></a></div><div class=\"ecl-content-block__description\"><p>The finalists for the EUROPEANMOBILITYWEEK award 2022 and the first-ever MOBILITYACTION award have been announced.</p></div><div class=\"ecl-content-block__list-container\"></div></div></article>\n",
    "====\n",
    "Error extracting link: 'NoneType' object is not subscriptable\n",
    "<article class=\"ecl-content-item\"><div class=\"ecl-content-block ecl-content-item__content-block\" data-ecl-auto-init=\"ContentBlock\" data-ecl-content-block=\"\"><ul class=\"ecl-content-block__primary-meta-container\"><li class=\"ecl-content-block__primary-meta-item\">News article</li><li class=\"ecl-content-block__primary-meta-item\"><time datetime=\"2023-02-28T12:00:00Z\">28 February 2023</time></li></ul><div class=\"ecl-content-block__title\" data-ecl-title-link=\"\"><a class=\"ecl-link ecl-link--standalone ecl-link--icon\" href=\"https://mobilityweek.eu/media-corner/\"><span class=\"ecl-link__label\">Braga, Sofia and Zagreb among the finalists for European urban mobility awards</span><svg aria-hidden=\"false\" class=\"ecl-icon ecl-icon--2xs ecl-link__icon\" focusable=\"false\"><use xlink:href=\"/themes/contrib/oe_theme/dist/ec/images/icons/sprites/icons.svg#external\"></use></svg></a></div><div class=\"ecl-content-block__description\"><p>The finalists for the EUROPEANMOBILITYWEEK award 2022 and the first-ever MOBILITYACTION award have been announced.</p></div><div class=\"ecl-content-block__list-container\"></div></div></article>\n",
    "====\n",
    "https://transport.ec.europa.eu/news-events/news_en?page=16\n",
    "https://transport.ec.europa.eu/news-events/news_en?page=17\n",
    "```"
   ]
  },
  {
   "cell_type": "markdown",
   "metadata": {},
   "source": [
    "<a name=\"2\"></a>\n",
    "## Agenda 2. Data wrangling"
   ]
  },
  {
   "cell_type": "markdown",
   "metadata": {},
   "source": [
    "Data wrangling is the process of converting raw data into a usable form. It typically involves examining the data, handling missing values, cleaning, and transforming it."
   ]
  },
  {
   "cell_type": "markdown",
   "metadata": {},
   "source": [
    "### Examining data"
   ]
  },
  {
   "cell_type": "markdown",
   "metadata": {
    "ExecuteTime": {
     "end_time": "2024-10-04T13:11:43.552479Z",
     "start_time": "2024-10-04T13:11:43.536199Z"
    }
   },
   "source": [
    "We start by loading our datasets and inspecting them to get a better sense of their structure. "
   ]
  },
  {
   "cell_type": "code",
   "execution_count": null,
   "metadata": {
    "ExecuteTime": {
     "end_time": "2024-11-05T15:35:48.847263Z",
     "start_time": "2024-11-05T15:35:48.824229Z"
    }
   },
   "outputs": [],
   "source": [
    "news2023 = pd.read_csv(\"news2023.csv\", names=[\"date\", \"title\", \"desc\", \"type\", \"link\"]) # import csv with column names\n",
    "news2024 = pd.read_csv(\"news2024.csv\", names=[\"date\", \"title\", \"desc\", \"type\", \"link\"])"
   ]
  },
  {
   "cell_type": "code",
   "execution_count": null,
   "metadata": {
    "ExecuteTime": {
     "end_time": "2024-11-05T15:35:49.702783Z",
     "start_time": "2024-11-05T15:35:49.676860Z"
    }
   },
   "outputs": [],
   "source": [
    "news2023"
   ]
  },
  {
   "cell_type": "code",
   "execution_count": null,
   "metadata": {
    "ExecuteTime": {
     "end_time": "2024-11-05T15:35:50.260286Z",
     "start_time": "2024-11-05T15:35:50.240195Z"
    },
    "scrolled": true
   },
   "outputs": [],
   "source": [
    "news2024.head()"
   ]
  },
  {
   "cell_type": "code",
   "execution_count": null,
   "metadata": {
    "ExecuteTime": {
     "end_time": "2024-11-05T15:35:50.778992Z",
     "start_time": "2024-11-05T15:35:50.768605Z"
    }
   },
   "outputs": [],
   "source": [
    "len(news2024) # check the number of rows"
   ]
  },
  {
   "cell_type": "code",
   "execution_count": null,
   "metadata": {
    "ExecuteTime": {
     "end_time": "2024-11-05T15:35:51.235992Z",
     "start_time": "2024-11-05T15:35:51.226456Z"
    }
   },
   "outputs": [],
   "source": [
    "news2024.shape # check the number of rows and columns"
   ]
  },
  {
   "cell_type": "code",
   "execution_count": null,
   "metadata": {
    "ExecuteTime": {
     "end_time": "2024-11-05T15:35:51.771066Z",
     "start_time": "2024-11-05T15:35:51.753490Z"
    }
   },
   "outputs": [],
   "source": [
    "news2024.info() # summarize by the columns"
   ]
  },
  {
   "cell_type": "code",
   "execution_count": null,
   "metadata": {
    "ExecuteTime": {
     "end_time": "2024-11-05T15:35:52.287345Z",
     "start_time": "2024-11-05T15:35:52.262988Z"
    }
   },
   "outputs": [],
   "source": [
    "news2024.describe() # useful for numerical data"
   ]
  },
  {
   "cell_type": "code",
   "execution_count": null,
   "metadata": {
    "ExecuteTime": {
     "end_time": "2024-11-05T15:35:52.819238Z",
     "start_time": "2024-11-05T15:35:52.808464Z"
    }
   },
   "outputs": [],
   "source": [
    "type(news2024.date[0]) # check the data type"
   ]
  },
  {
   "cell_type": "code",
   "execution_count": null,
   "metadata": {
    "ExecuteTime": {
     "end_time": "2024-11-05T15:35:54.376334Z",
     "start_time": "2024-11-05T15:35:54.363491Z"
    }
   },
   "outputs": [],
   "source": [
    "news2023.type.unique() # check the unique values of a column"
   ]
  },
  {
   "cell_type": "code",
   "execution_count": null,
   "metadata": {
    "ExecuteTime": {
     "end_time": "2024-11-05T15:35:54.921336Z",
     "start_time": "2024-11-05T15:35:54.908052Z"
    }
   },
   "outputs": [],
   "source": [
    "news2023.type.value_counts() # check each value's number of occurrences"
   ]
  },
  {
   "cell_type": "markdown",
   "metadata": {},
   "source": [
    "### Handling missing values"
   ]
  },
  {
   "cell_type": "code",
   "execution_count": null,
   "metadata": {
    "ExecuteTime": {
     "end_time": "2024-11-05T15:35:56.171782Z",
     "start_time": "2024-11-05T15:35:56.158263Z"
    }
   },
   "outputs": [],
   "source": [
    "news2024.isnull().sum() # identify missing data"
   ]
  },
  {
   "cell_type": "code",
   "execution_count": null,
   "metadata": {
    "ExecuteTime": {
     "end_time": "2024-11-05T15:35:56.742419Z",
     "start_time": "2024-11-05T15:35:56.729373Z"
    }
   },
   "outputs": [],
   "source": [
    "news2023.isnull().sum()"
   ]
  },
  {
   "cell_type": "code",
   "execution_count": null,
   "metadata": {
    "ExecuteTime": {
     "end_time": "2024-11-05T15:35:59.010283Z",
     "start_time": "2024-11-05T15:35:58.988843Z"
    }
   },
   "outputs": [],
   "source": [
    "news2023[news2023.title.isnull()] # pinpoint which rows have missing values"
   ]
  },
  {
   "cell_type": "code",
   "execution_count": null,
   "metadata": {
    "ExecuteTime": {
     "end_time": "2024-11-05T15:35:59.594800Z",
     "start_time": "2024-11-05T15:35:59.575506Z"
    }
   },
   "outputs": [],
   "source": [
    "news2023[news2023.link.isnull()] # check again by \"link\""
   ]
  },
  {
   "cell_type": "markdown",
   "metadata": {},
   "source": [
    "Missing values can often skew analyses or create errors during analysis. Here are some common strategies for handling missing values:\n",
    "\n",
    "- Manually review and fix the missing data (if possible)\n",
    "- Remove missing data e.g., drop rows\n",
    "- Impute missing data e.g., replace with the mean (for numerical data)\n",
    "- Fill with a specific value e.g., replace with \"unknown\" or \"NA\"\n",
    "- Predictive imputation e.g., use machine learning models to predict missing values based on other features\n",
    "- Leave as missing\n",
    "\n",
    "For our example, we choose the first option because we have access to the original data source. Let's go back to the previous error messages."
   ]
  },
  {
   "cell_type": "markdown",
   "metadata": {},
   "source": [
    "&#x1F4A1; **Markdown**: Markdown is a markup language. It can be used as a text-to-HTML conversion tool. Read more on Jupyter [Markdown cells](https://jupyter-notebook.readthedocs.io/en/stable/examples/Notebook/Working%20With%20Markdown%20Cells.html). It can help us read the error messages and fix the missing values. Below is a direct copy & paste of the [error messages](#error) (in a Markedown cell)."
   ]
  },
  {
   "cell_type": "markdown",
   "metadata": {},
   "source": [
    "https://transport.ec.europa.eu/news-events/news_en?page=7\n",
    "https://transport.ec.europa.eu/news-events/news_en?page=8\n",
    "Error extracting title: 'NoneType' object has no attribute 'get_text'\n",
    "<article class=\"ecl-content-item\"><div class=\"ecl-content-block ecl-content-item__content-block\" data-ecl-auto-init=\"ContentBlock\" data-ecl-content-block=\"\"><ul class=\"ecl-content-block__primary-meta-container\"><li class=\"ecl-content-block__primary-meta-item\">News article</li><li class=\"ecl-content-block__primary-meta-item\"><time datetime=\"2023-12-12T12:00:00Z\">12 December 2023</time></li></ul><div class=\"ecl-content-block__title\" data-ecl-title-link=\"\"><a class=\"ecl-link ecl-link--standalone ecl-link--icon\" href=\"https://www.wbif.eu/news-details/transport-ministers-discuss-reforms-within-western-balkans-transport-community-summit\"><span class=\"ecl-link__label\">Transport Ministers discuss reforms within Western Balkans at Transport Community Summit</span><svg aria-hidden=\"false\" class=\"ecl-icon ecl-icon--2xs ecl-link__icon\" focusable=\"false\"><use xlink:href=\"/themes/contrib/oe_theme/dist/ec/images/icons/sprites/icons.svg#external\"></use></svg></a></div><div class=\"ecl-content-block__description\"><p>Transport ministers from the Western Balkans, Georgia, Moldova, and Ukraine, as well as the European Commission, gathered at the annual Ministerial Council Meeting of the Transport Community in Skopje, North Macedonia, on 12 December 2023.</p></div><div class=\"ecl-content-block__list-container\"></div></div></article>\n",
    "====\n",
    "Error extracting link: 'NoneType' object is not subscriptable\n",
    "<article class=\"ecl-content-item\"><div class=\"ecl-content-block ecl-content-item__content-block\" data-ecl-auto-init=\"ContentBlock\" data-ecl-content-block=\"\"><ul class=\"ecl-content-block__primary-meta-container\"><li class=\"ecl-content-block__primary-meta-item\">News article</li><li class=\"ecl-content-block__primary-meta-item\"><time datetime=\"2023-12-12T12:00:00Z\">12 December 2023</time></li></ul><div class=\"ecl-content-block__title\" data-ecl-title-link=\"\"><a class=\"ecl-link ecl-link--standalone ecl-link--icon\" href=\"https://www.wbif.eu/news-details/transport-ministers-discuss-reforms-within-western-balkans-transport-community-summit\"><span class=\"ecl-link__label\">Transport Ministers discuss reforms within Western Balkans at Transport Community Summit</span><svg aria-hidden=\"false\" class=\"ecl-icon ecl-icon--2xs ecl-link__icon\" focusable=\"false\"><use xlink:href=\"/themes/contrib/oe_theme/dist/ec/images/icons/sprites/icons.svg#external\"></use></svg></a></div><div class=\"ecl-content-block__description\"><p>Transport ministers from the Western Balkans, Georgia, Moldova, and Ukraine, as well as the European Commission, gathered at the annual Ministerial Council Meeting of the Transport Community in Skopje, North Macedonia, on 12 December 2023.</p></div><div class=\"ecl-content-block__list-container\"></div></div></article>\n",
    "====\n",
    "https://transport.ec.europa.eu/news-events/news_en?page=9\n",
    "Error extracting title: 'NoneType' object has no attribute 'get_text'\n",
    "<article class=\"ecl-content-item\"><div class=\"ecl-content-block ecl-content-item__content-block\" data-ecl-auto-init=\"ContentBlock\" data-ecl-content-block=\"\"><ul class=\"ecl-content-block__primary-meta-container\"><li class=\"ecl-content-block__primary-meta-item\">News article</li><li class=\"ecl-content-block__primary-meta-item\"><time datetime=\"2023-10-25T12:00:00Z\">25 October 2023</time></li></ul><div class=\"ecl-content-block__title\" data-ecl-title-link=\"\"><a class=\"ecl-link ecl-link--standalone ecl-link--icon\" href=\"https://www.ecac-ceac.org/news/960-press-release-european-aviation-leaders-unite-for-holistic-sustainability-in-the-ecac-eu-dialogue\"><span class=\"ecl-link__label\">European Commission joins the 12th edition of the ECAC/EU Dialogue</span><svg aria-hidden=\"false\" class=\"ecl-icon ecl-icon--2xs ecl-link__icon\" focusable=\"false\"><use xlink:href=\"/themes/contrib/oe_theme/dist/ec/images/icons/sprites/icons.svg#external\"></use></svg></a></div><div class=\"ecl-content-block__description\"><p>European aviation leaders have come together in Valencia for the 12th edition of the ECAC/EU Dialogue, reaffirming their commitment to sustainable aviation.</p></div><div class=\"ecl-content-block__list-container\"></div></div></article>\n",
    "====\n",
    "Error extracting link: 'NoneType' object is not subscriptable\n",
    "<article class=\"ecl-content-item\"><div class=\"ecl-content-block ecl-content-item__content-block\" data-ecl-auto-init=\"ContentBlock\" data-ecl-content-block=\"\"><ul class=\"ecl-content-block__primary-meta-container\"><li class=\"ecl-content-block__primary-meta-item\">News article</li><li class=\"ecl-content-block__primary-meta-item\"><time datetime=\"2023-10-25T12:00:00Z\">25 October 2023</time></li></ul><div class=\"ecl-content-block__title\" data-ecl-title-link=\"\"><a class=\"ecl-link ecl-link--standalone ecl-link--icon\" href=\"https://www.ecac-ceac.org/news/960-press-release-european-aviation-leaders-unite-for-holistic-sustainability-in-the-ecac-eu-dialogue\"><span class=\"ecl-link__label\">European Commission joins the 12th edition of the ECAC/EU Dialogue</span><svg aria-hidden=\"false\" class=\"ecl-icon ecl-icon--2xs ecl-link__icon\" focusable=\"false\"><use xlink:href=\"/themes/contrib/oe_theme/dist/ec/images/icons/sprites/icons.svg#external\"></use></svg></a></div><div class=\"ecl-content-block__description\"><p>European aviation leaders have come together in Valencia for the 12th edition of the ECAC/EU Dialogue, reaffirming their commitment to sustainable aviation.</p></div><div class=\"ecl-content-block__list-container\"></div></div></article>\n",
    "====\n",
    "https://transport.ec.europa.eu/news-events/news_en?page=10\n",
    "https://transport.ec.europa.eu/news-events/news_en?page=11\n",
    "https://transport.ec.europa.eu/news-events/news_en?page=12\n",
    "https://transport.ec.europa.eu/news-events/news_en?page=13\n",
    "https://transport.ec.europa.eu/news-events/news_en?page=14\n",
    "https://transport.ec.europa.eu/news-events/news_en?page=15\n",
    "Error extracting title: 'NoneType' object has no attribute 'get_text'\n",
    "<article class=\"ecl-content-item\"><div class=\"ecl-content-block ecl-content-item__content-block\" data-ecl-auto-init=\"ContentBlock\" data-ecl-content-block=\"\"><ul class=\"ecl-content-block__primary-meta-container\"><li class=\"ecl-content-block__primary-meta-item\">News article</li><li class=\"ecl-content-block__primary-meta-item\"><time datetime=\"2023-03-14T12:00:00Z\">14 March 2023</time></li></ul><div class=\"ecl-content-block__title\" data-ecl-title-link=\"\"><a class=\"ecl-link ecl-link--standalone ecl-link--icon\" href=\"https://www.eib.org/en/press/all/2023-108-investeu-eur3-4-billion-to-modernise-the-palermo-catania-railway-line\"><span class=\"ecl-link__label\">Italy: InvestEU - €3.4 billion to modernise the Palermo-Catania railway line</span><svg aria-hidden=\"false\" class=\"ecl-icon ecl-icon--2xs ecl-link__icon\" focusable=\"false\"><use xlink:href=\"/themes/contrib/oe_theme/dist/ec/images/icons/sprites/icons.svg#external\"></use></svg></a></div><div class=\"ecl-content-block__description\"><p>The modernisation of 178 km of the Palermo-Catania line will reduce current travel times by a third, linking the two cities with a direct two-hour rail service, which will have a significant impact on economic, social, and sustainable development in Sicily.</p></div><div class=\"ecl-content-block__list-container\"></div></div></article>\n",
    "====\n",
    "Error extracting link: 'NoneType' object is not subscriptable\n",
    "<article class=\"ecl-content-item\"><div class=\"ecl-content-block ecl-content-item__content-block\" data-ecl-auto-init=\"ContentBlock\" data-ecl-content-block=\"\"><ul class=\"ecl-content-block__primary-meta-container\"><li class=\"ecl-content-block__primary-meta-item\">News article</li><li class=\"ecl-content-block__primary-meta-item\"><time datetime=\"2023-03-14T12:00:00Z\">14 March 2023</time></li></ul><div class=\"ecl-content-block__title\" data-ecl-title-link=\"\"><a class=\"ecl-link ecl-link--standalone ecl-link--icon\" href=\"https://www.eib.org/en/press/all/2023-108-investeu-eur3-4-billion-to-modernise-the-palermo-catania-railway-line\"><span class=\"ecl-link__label\">Italy: InvestEU - €3.4 billion to modernise the Palermo-Catania railway line</span><svg aria-hidden=\"false\" class=\"ecl-icon ecl-icon--2xs ecl-link__icon\" focusable=\"false\"><use xlink:href=\"/themes/contrib/oe_theme/dist/ec/images/icons/sprites/icons.svg#external\"></use></svg></a></div><div class=\"ecl-content-block__description\"><p>The modernisation of 178 km of the Palermo-Catania line will reduce current travel times by a third, linking the two cities with a direct two-hour rail service, which will have a significant impact on economic, social, and sustainable development in Sicily.</p></div><div class=\"ecl-content-block__list-container\"></div></div></article>\n",
    "====\n",
    "Error extracting title: 'NoneType' object has no attribute 'get_text'\n",
    "<article class=\"ecl-content-item\"><div class=\"ecl-content-block ecl-content-item__content-block\" data-ecl-auto-init=\"ContentBlock\" data-ecl-content-block=\"\"><ul class=\"ecl-content-block__primary-meta-container\"><li class=\"ecl-content-block__primary-meta-item\">News article</li><li class=\"ecl-content-block__primary-meta-item\"><time datetime=\"2023-02-28T12:00:00Z\">28 February 2023</time></li></ul><div class=\"ecl-content-block__title\" data-ecl-title-link=\"\"><a class=\"ecl-link ecl-link--standalone ecl-link--icon\" href=\"https://mobilityweek.eu/media-corner/\"><span class=\"ecl-link__label\">Braga, Sofia and Zagreb among the finalists for European urban mobility awards</span><svg aria-hidden=\"false\" class=\"ecl-icon ecl-icon--2xs ecl-link__icon\" focusable=\"false\"><use xlink:href=\"/themes/contrib/oe_theme/dist/ec/images/icons/sprites/icons.svg#external\"></use></svg></a></div><div class=\"ecl-content-block__description\"><p>The finalists for the EUROPEANMOBILITYWEEK award 2022 and the first-ever MOBILITYACTION award have been announced.</p></div><div class=\"ecl-content-block__list-container\"></div></div></article>\n",
    "====\n",
    "Error extracting link: 'NoneType' object is not subscriptable\n",
    "<article class=\"ecl-content-item\"><div class=\"ecl-content-block ecl-content-item__content-block\" data-ecl-auto-init=\"ContentBlock\" data-ecl-content-block=\"\"><ul class=\"ecl-content-block__primary-meta-container\"><li class=\"ecl-content-block__primary-meta-item\">News article</li><li class=\"ecl-content-block__primary-meta-item\"><time datetime=\"2023-02-28T12:00:00Z\">28 February 2023</time></li></ul><div class=\"ecl-content-block__title\" data-ecl-title-link=\"\"><a class=\"ecl-link ecl-link--standalone ecl-link--icon\" href=\"https://mobilityweek.eu/media-corner/\"><span class=\"ecl-link__label\">Braga, Sofia and Zagreb among the finalists for European urban mobility awards</span><svg aria-hidden=\"false\" class=\"ecl-icon ecl-icon--2xs ecl-link__icon\" focusable=\"false\"><use xlink:href=\"/themes/contrib/oe_theme/dist/ec/images/icons/sprites/icons.svg#external\"></use></svg></a></div><div class=\"ecl-content-block__description\"><p>The finalists for the EUROPEANMOBILITYWEEK award 2022 and the first-ever MOBILITYACTION award have been announced.</p></div><div class=\"ecl-content-block__list-container\"></div></div></article>\n",
    "====\n",
    "https://transport.ec.europa.eu/news-events/news_en?page=16\n",
    "https://transport.ec.europa.eu/news-events/news_en?page=17"
   ]
  },
  {
   "cell_type": "code",
   "execution_count": null,
   "metadata": {
    "ExecuteTime": {
     "end_time": "2024-11-05T15:36:04.722898Z",
     "start_time": "2024-11-05T15:36:04.711032Z"
    }
   },
   "outputs": [],
   "source": [
    "news2023.iloc[10].title # the first missing title"
   ]
  },
  {
   "cell_type": "code",
   "execution_count": null,
   "metadata": {
    "ExecuteTime": {
     "end_time": "2024-11-05T15:36:05.322311Z",
     "start_time": "2024-11-05T15:36:05.314333Z"
    }
   },
   "outputs": [],
   "source": [
    "# write the title to the cell\n",
    "news2023.iloc[10].title = \"Transport Ministers discuss reforms within Western Balkans at Transport Community Summit\""
   ]
  },
  {
   "cell_type": "code",
   "execution_count": null,
   "metadata": {
    "ExecuteTime": {
     "end_time": "2024-11-05T15:36:05.997314Z",
     "start_time": "2024-11-05T15:36:05.980460Z"
    }
   },
   "outputs": [],
   "source": [
    "news2023[news2023.title.isnull()] # check missing titles again. the above one is no longer there"
   ]
  },
  {
   "cell_type": "code",
   "execution_count": null,
   "metadata": {
    "ExecuteTime": {
     "end_time": "2024-11-05T15:36:06.667548Z",
     "start_time": "2024-11-05T15:36:06.658238Z"
    }
   },
   "outputs": [],
   "source": [
    "# do the same for the missing link\n",
    "news2023.iloc[10].link = \"https://www.wbif.eu/news-details/transport-ministers-discuss-reforms-within-western-balkans-transport-community-summit\""
   ]
  },
  {
   "cell_type": "code",
   "execution_count": null,
   "metadata": {
    "ExecuteTime": {
     "end_time": "2024-11-05T15:36:07.437327Z",
     "start_time": "2024-11-05T15:36:07.424738Z"
    }
   },
   "outputs": [],
   "source": [
    "# do the same for the rest missing values\n",
    "news2023.iloc[21].title = \"European Commission joins the 12th edition of the ECAC/EU Dialogue\"\n",
    "news2023.iloc[21].link = \"https://www.ecac-ceac.org/news/960-press-release-european-aviation-leaders-unite-for-holistic-sustainability-in-the-ecac-eu-dialogue\"\n",
    "news2023.iloc[73].title = \"Italy: InvestEU - €3.4 billion to modernise the Palermo-Catania railway line\"\n",
    "news2023.iloc[73].link = \"https://www.eib.org/en/press/all/2023-108-investeu-eur3-4-billion-to-modernise-the-palermo-catania-railway-line\"\n",
    "news2023.iloc[77].title = \"Braga, Sofia and Zagreb among the finalists for European urban mobility awards\"\n",
    "news2023.iloc[77].link = \"https://mobilityweek.eu/media-corner/\""
   ]
  },
  {
   "cell_type": "code",
   "execution_count": null,
   "metadata": {
    "ExecuteTime": {
     "end_time": "2024-11-05T15:36:09.374252Z",
     "start_time": "2024-11-05T15:36:09.358964Z"
    }
   },
   "outputs": [],
   "source": [
    "news2023.isnull().sum() # check again. no more missing values"
   ]
  },
  {
   "cell_type": "markdown",
   "metadata": {},
   "source": [
    "### Merging datasets"
   ]
  },
  {
   "cell_type": "markdown",
   "metadata": {},
   "source": [
    "There are many different ways of merging datasets. Check this [documentation](https://pandas.pydata.org/docs/user_guide/merging.html) or ask ChatGPT. Let's combine our two datasets into one."
   ]
  },
  {
   "cell_type": "code",
   "execution_count": null,
   "metadata": {
    "ExecuteTime": {
     "end_time": "2024-11-05T15:36:12.124844Z",
     "start_time": "2024-11-05T15:36:12.115953Z"
    }
   },
   "outputs": [],
   "source": [
    "news = pd.concat([news2023, news2024], ignore_index=True) # concatenate and re-index"
   ]
  },
  {
   "cell_type": "code",
   "execution_count": null,
   "metadata": {
    "ExecuteTime": {
     "end_time": "2024-11-05T15:36:12.727741Z",
     "start_time": "2024-11-05T15:36:12.707850Z"
    }
   },
   "outputs": [],
   "source": [
    "news"
   ]
  },
  {
   "cell_type": "code",
   "execution_count": null,
   "metadata": {
    "ExecuteTime": {
     "end_time": "2024-11-05T15:36:13.352500Z",
     "start_time": "2024-11-05T15:36:13.335943Z"
    }
   },
   "outputs": [],
   "source": [
    "news.isnull().sum()"
   ]
  },
  {
   "cell_type": "markdown",
   "metadata": {},
   "source": [
    "Nothing is missing. However, we might have created duplicated values when merging datasets."
   ]
  },
  {
   "cell_type": "markdown",
   "metadata": {},
   "source": [
    "### Cleaning"
   ]
  },
  {
   "cell_type": "code",
   "execution_count": null,
   "metadata": {
    "ExecuteTime": {
     "end_time": "2024-11-05T15:36:16.851249Z",
     "start_time": "2024-11-05T15:36:16.830661Z"
    }
   },
   "outputs": [],
   "source": [
    "news[news.duplicated()] # identify duplicated rows"
   ]
  },
  {
   "cell_type": "code",
   "execution_count": null,
   "metadata": {
    "ExecuteTime": {
     "end_time": "2024-11-05T15:36:17.796197Z",
     "start_time": "2024-11-05T15:36:17.780592Z"
    }
   },
   "outputs": [],
   "source": [
    "news.duplicated() # returns a Boolean Series indicating whether each row is a duplicate of a previous row"
   ]
  },
  {
   "cell_type": "code",
   "execution_count": null,
   "metadata": {
    "ExecuteTime": {
     "end_time": "2024-11-05T15:36:19.114391Z",
     "start_time": "2024-11-05T15:36:19.101520Z"
    }
   },
   "outputs": [],
   "source": [
    "news.duplicated().tail(11)"
   ]
  },
  {
   "cell_type": "code",
   "execution_count": null,
   "metadata": {
    "ExecuteTime": {
     "end_time": "2024-11-05T15:36:22.293565Z",
     "start_time": "2024-11-05T15:36:22.283902Z"
    }
   },
   "outputs": [],
   "source": [
    "news = news.drop_duplicates() # drop duplicated rows"
   ]
  },
  {
   "cell_type": "code",
   "execution_count": null,
   "metadata": {
    "ExecuteTime": {
     "end_time": "2024-11-05T15:36:25.446698Z",
     "start_time": "2024-11-05T15:36:25.427193Z"
    }
   },
   "outputs": [],
   "source": [
    "news"
   ]
  },
  {
   "cell_type": "markdown",
   "metadata": {},
   "source": [
    "We also want to fix the date using [`pandas.to_datetime` function](https://pandas.pydata.org/docs/reference/api/pandas.to_datetime.html). "
   ]
  },
  {
   "cell_type": "code",
   "execution_count": null,
   "metadata": {
    "ExecuteTime": {
     "end_time": "2024-11-05T15:36:29.891138Z",
     "start_time": "2024-11-05T15:36:29.878861Z"
    }
   },
   "outputs": [],
   "source": [
    "type(news.date[0])"
   ]
  },
  {
   "cell_type": "code",
   "execution_count": null,
   "metadata": {
    "ExecuteTime": {
     "end_time": "2024-11-05T15:36:30.599131Z",
     "start_time": "2024-11-05T15:36:30.581500Z"
    }
   },
   "outputs": [],
   "source": [
    "news.loc[:, \"date\"] = pd.to_datetime(news.date) # change the data type to date"
   ]
  },
  {
   "cell_type": "code",
   "execution_count": null,
   "metadata": {
    "ExecuteTime": {
     "end_time": "2024-11-05T15:36:31.306195Z",
     "start_time": "2024-11-05T15:36:31.294396Z"
    }
   },
   "outputs": [],
   "source": [
    "type(news.date[0])"
   ]
  },
  {
   "cell_type": "code",
   "execution_count": null,
   "metadata": {
    "ExecuteTime": {
     "end_time": "2024-11-05T15:36:31.923988Z",
     "start_time": "2024-11-05T15:36:31.901743Z"
    }
   },
   "outputs": [],
   "source": [
    "news"
   ]
  },
  {
   "cell_type": "code",
   "execution_count": null,
   "metadata": {
    "ExecuteTime": {
     "end_time": "2024-11-05T15:36:32.530983Z",
     "start_time": "2024-11-05T15:36:32.520847Z"
    }
   },
   "outputs": [],
   "source": [
    "news = news.sort_values(by=\"date\", ascending=False) # sort the rows by date"
   ]
  },
  {
   "cell_type": "code",
   "execution_count": null,
   "metadata": {
    "ExecuteTime": {
     "end_time": "2024-11-05T15:36:33.355575Z",
     "start_time": "2024-11-05T15:36:33.334761Z"
    }
   },
   "outputs": [],
   "source": [
    "news"
   ]
  },
  {
   "cell_type": "code",
   "execution_count": null,
   "metadata": {
    "ExecuteTime": {
     "end_time": "2024-11-05T15:36:35.369022Z",
     "start_time": "2024-11-05T15:36:35.348773Z"
    }
   },
   "outputs": [],
   "source": [
    "news.head(10)"
   ]
  },
  {
   "cell_type": "code",
   "execution_count": null,
   "metadata": {
    "ExecuteTime": {
     "end_time": "2024-11-05T15:39:23.580487Z",
     "start_time": "2024-11-05T15:39:23.567328Z"
    }
   },
   "outputs": [],
   "source": [
    "news['date'] = pd.to_datetime(news['date']) # make sure the 'date' column is of datetime type\n",
    "news = news[news['date'].dt.year!=2022] # remove news from 2022"
   ]
  },
  {
   "cell_type": "code",
   "execution_count": null,
   "metadata": {
    "ExecuteTime": {
     "end_time": "2024-11-05T15:39:30.252701Z",
     "start_time": "2024-11-05T15:39:30.236092Z"
    }
   },
   "outputs": [],
   "source": [
    "news"
   ]
  },
  {
   "cell_type": "code",
   "execution_count": null,
   "metadata": {
    "ExecuteTime": {
     "end_time": "2024-11-05T15:39:32.822726Z",
     "start_time": "2024-11-05T15:39:32.810015Z"
    }
   },
   "outputs": [],
   "source": [
    "news.type.unique()"
   ]
  },
  {
   "cell_type": "code",
   "execution_count": null,
   "metadata": {
    "ExecuteTime": {
     "end_time": "2024-11-05T15:39:34.845365Z",
     "start_time": "2024-11-05T15:39:34.823880Z"
    }
   },
   "outputs": [],
   "source": [
    "news[news.type==\"Press release\"]"
   ]
  },
  {
   "cell_type": "code",
   "execution_count": null,
   "metadata": {
    "ExecuteTime": {
     "end_time": "2024-11-05T15:39:37.010609Z",
     "start_time": "2024-11-05T15:39:36.991341Z"
    }
   },
   "outputs": [],
   "source": [
    "news[news.type==\"Supplementary information\"]"
   ]
  },
  {
   "cell_type": "markdown",
   "metadata": {},
   "source": [
    "Let's only keep the news."
   ]
  },
  {
   "cell_type": "code",
   "execution_count": null,
   "metadata": {
    "ExecuteTime": {
     "end_time": "2024-11-05T15:39:45.186189Z",
     "start_time": "2024-11-05T15:39:45.175390Z"
    }
   },
   "outputs": [],
   "source": [
    "news = news[news.type==\"News article\"]"
   ]
  },
  {
   "cell_type": "code",
   "execution_count": null,
   "metadata": {
    "ExecuteTime": {
     "end_time": "2024-11-05T15:39:45.821001Z",
     "start_time": "2024-11-05T15:39:45.811222Z"
    }
   },
   "outputs": [],
   "source": [
    "news = news.reset_index(drop=True) # reset the index"
   ]
  },
  {
   "cell_type": "code",
   "execution_count": null,
   "metadata": {
    "ExecuteTime": {
     "end_time": "2024-11-05T15:39:46.469435Z",
     "start_time": "2024-11-05T15:39:46.459827Z"
    }
   },
   "outputs": [],
   "source": [
    "news = news[[\"date\", \"title\", \"desc\"]] # new df with selected columns"
   ]
  },
  {
   "cell_type": "code",
   "execution_count": null,
   "metadata": {
    "ExecuteTime": {
     "end_time": "2024-11-05T15:39:47.272170Z",
     "start_time": "2024-11-05T15:39:47.253050Z"
    }
   },
   "outputs": [],
   "source": [
    "news"
   ]
  },
  {
   "cell_type": "code",
   "execution_count": null,
   "metadata": {
    "ExecuteTime": {
     "end_time": "2024-11-05T15:39:49.227154Z",
     "start_time": "2024-11-05T15:39:49.206072Z"
    }
   },
   "outputs": [],
   "source": [
    "news.to_csv(\"news_clean.csv\", index=False) # save to csv"
   ]
  },
  {
   "cell_type": "markdown",
   "metadata": {},
   "source": [
    "&#x2753;**<font color=cornflowerblue>QUESTION: </font>** What are the common tasks involved in data wrangling?"
   ]
  },
  {
   "cell_type": "markdown",
   "metadata": {},
   "source": [
    "&#x270A; **<font color=firebrick>DO THIS: </font>** Here are two options to practice what we've learned and to further develop your data skills:\n",
    "\n",
    "1. Do some data wrangling on the data you scraped last week.\n",
    "2. Explore the existing `news_clean.csv` dataset. What research question can it answer? Using what methods/tools?\n",
    "\n",
    "Feel free to pick one task or do both. Have fun!"
   ]
  },
  {
   "cell_type": "code",
   "execution_count": null,
   "metadata": {
    "ExecuteTime": {
     "end_time": "2024-10-05T10:07:13.004543Z",
     "start_time": "2024-10-05T10:07:12.993255Z"
    }
   },
   "outputs": [],
   "source": [
    "# put your code here\n",
    "\n",
    "\n",
    "\n",
    "\n",
    "\n",
    "\n",
    "\n",
    "\n",
    "\n",
    "\n",
    "\n"
   ]
  },
  {
   "cell_type": "markdown",
   "metadata": {},
   "source": [
    "---------\n",
    "### Congratulations, we are done!\n",
    "\n",
    "This notebook is written by [Meng Cai](https://www.verkehr.tu-darmstadt.de/vv/das_institut_ivv/team_ivv/wissenschaftliche_mitarbeiter_doktoranden/meng_cai/standardseite_204.de.jsp), Technical University of Darmstadt. This work is licensed under a <a rel=\"license\" href=\"http://creativecommons.org/licenses/by-nc/4.0/\">Creative Commons Attribution-NonCommercial 4.0 International License</a>.\n",
    "<a rel=\"license\" href=\"http://creativecommons.org/licenses/by-nc/4.0/\"><img alt=\"Creative Commons License\" style=\"border-width:0\" src=\"https://i.creativecommons.org/l/by-nc/4.0/88x31.png\" /></a>"
   ]
  }
 ],
 "metadata": {
  "kernelspec": {
   "display_name": "Python 3 (ipykernel)",
   "language": "python",
   "name": "python3"
  },
  "language_info": {
   "codemirror_mode": {
    "name": "ipython",
    "version": 3
   },
   "file_extension": ".py",
   "mimetype": "text/x-python",
   "name": "python",
   "nbconvert_exporter": "python",
   "pygments_lexer": "ipython3",
   "version": "3.11.9"
  },
  "toc": {
   "base_numbering": 1,
   "nav_menu": {},
   "number_sections": false,
   "sideBar": true,
   "skip_h1_title": false,
   "title_cell": "Table of Contents",
   "title_sidebar": "Contents",
   "toc_cell": false,
   "toc_position": {},
   "toc_section_display": true,
   "toc_window_display": true
  },
  "varInspector": {
   "cols": {
    "lenName": 16,
    "lenType": 16,
    "lenVar": 40
   },
   "kernels_config": {
    "python": {
     "delete_cmd_postfix": "",
     "delete_cmd_prefix": "del ",
     "library": "var_list.py",
     "varRefreshCmd": "print(var_dic_list())"
    },
    "r": {
     "delete_cmd_postfix": ") ",
     "delete_cmd_prefix": "rm(",
     "library": "var_list.r",
     "varRefreshCmd": "cat(var_dic_list()) "
    }
   },
   "types_to_exclude": [
    "module",
    "function",
    "builtin_function_or_method",
    "instance",
    "_Feature"
   ],
   "window_display": false
  }
 },
 "nbformat": 4,
 "nbformat_minor": 4
}
